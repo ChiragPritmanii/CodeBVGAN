{
 "cells": [
  {
   "cell_type": "code",
   "execution_count": null,
   "id": "31f41eeb-2e1d-4f2f-8dba-aa814d0f78dc",
   "metadata": {},
   "outputs": [],
   "source": [
    "import csv\n",
    "import numpy as np\n",
    "import pandas as pd \n",
    "import torch\n",
    "import torchaudio\n",
    "\n",
    "from tokenizer.soundstream.AudioTokenizer import AudioTokenizer"
   ]
  },
  {
   "cell_type": "code",
   "execution_count": 1,
   "id": "1d041268-9a63-4b23-9416-5cd5e0cd6a38",
   "metadata": {},
   "outputs": [],
   "source": [
    "def create_csv(in_path, out_path):\n",
    "    data = pd.read_csv(in_path, sep=\"\\t\")\n",
    "    data = data[['item_name', 'accompaniment_path']]\n",
    "    data.rename(columns = {'accompaniment_path':'path'}, inplace=True)\n",
    "    data.to_csv(out_path, sep=\"\\t\", index=False)\n",
    "    print(f\"the csv for vocoder training is saved at {out_path}\")\n",
    "\n",
    "def create_acoustic_codes(csv_path, tok_path, out_path):\n",
    "    file = open(csv_path, mode='r')\n",
    "    data_reader = csv.DictReader(\n",
    "            file,\n",
    "            delimiter=\"\\t\",\n",
    "            quotechar=None,\n",
    "            doublequote=False,\n",
    "            lineterminator=\"\\n\",\n",
    "            quoting=csv.QUOTE_NONE,\n",
    "        )\n",
    "    data_items = [e for e in data_reader]\n",
    "\n",
    "    audio_tokenizer = AudioTokenizer(ckpt_path=tok_path, device=torch.device('cuda'))    \n",
    "    \n",
    "    codes = {}\n",
    "\n",
    "    for item in data_items: \n",
    "        wav, sr = torchaudio.load(item['path'])\n",
    "        wav = torchaudio.transforms.Resample(sr, 16000)(wav)\n",
    "        if wav.shape[0]>1:\n",
    "            mono_wav = wav.mean(dim=0, keepdim=True)\n",
    "        else:\n",
    "            mono_wav = wav\n",
    "        mono_wav_enc = audio_tokenizer.encode(mono_wav)\n",
    "        codes[item['item_name']] = mono_wav_enc\n",
    "\n",
    "    # .npy file\n",
    "    np.save(out_path, codes, allow_pickle=True)\n",
    "    print(f\"Acoustic Codes file saved at {out_path}\")\n",
    "    \n",
    "def load_acoustic_codes(in_path):\n",
    "    # load .npy file\n",
    "    acoustic_file = np.load(in_path, allow_pickle=True).item()\n",
    "    return acoustic_file"
   ]
  },
  {
   "cell_type": "code",
   "execution_count": null,
   "id": "10e82e44-160c-4ae1-a033-6e04c8e4291f",
   "metadata": {},
   "outputs": [],
   "source": [
    "# When instantiating the UnitDataset Class you need to provide the csv and acoustic_file "
   ]
  }
 ],
 "metadata": {
  "kernelspec": {
   "display_name": "Python 3 (ipykernel)",
   "language": "python",
   "name": "python3"
  },
  "language_info": {
   "codemirror_mode": {
    "name": "ipython",
    "version": 3
   },
   "file_extension": ".py",
   "mimetype": "text/x-python",
   "name": "python",
   "nbconvert_exporter": "python",
   "pygments_lexer": "ipython3",
   "version": "3.10.14"
  }
 },
 "nbformat": 4,
 "nbformat_minor": 5
}
